{
 "cells": [
  {
   "cell_type": "markdown",
   "metadata": {},
   "source": [
    "## Introduction to algorithms"
   ]
  },
  {
   "cell_type": "markdown",
   "metadata": {},
   "source": [
    "**Optimisation methods** are the methods for finding optimal(in some sense) solutions for mathematical models.\n",
    "\n",
    "----\n",
    "\n",
    "## Optimisation problem\n",
    "To solve the optimisation problem $f(x) \\rightarrow max_{x \\in Q}(min_{x \\in Q})$ means to find such $x^* \\in Q$, where Q is the region of acceptability, such that f reaches the (mininmal) value at $x^*$. Notation: $x^* = arg max_{x \\in Q}(min_{x \\in Q})f(x)$\n",
    "If $x^*$ is known, one can clearly find $f(x^*)$.\n",
    "\n",
    "----\n",
    "\n",
    "- **Local**(simpler) and **global**(more complex) optimisation\n",
    "- The max problem becomes the min problem if one considers -f \n",
    "\n",
    "Q, the region of acceptability may be\n",
    "- Not defined(**Unconstrained optimization**)\n",
    "- Defined via a system S of linear or non-linear equations(**Constrained optimization**)\n",
    " f or S (non-)linear $\\rightarrow$ (non-)linear programming or (non-)linear optimisation\n",
    " \n",
    " "
   ]
  },
  {
   "cell_type": "markdown",
   "metadata": {},
   "source": [
    "## Methods for minimisation\n",
    "Information about $f \\rightarrow $ **direct**, **first-order** or **second-order** methods \n",
    "\n",
    "### Direct methods or zero-order methods\n",
    "Only values of f(but no those of its derivatives) are used. \n",
    "\n",
    "Cons: Available for a wide class of functions; \n",
    "\n",
    "Pros:Slow convergence\n",
    "\n",
    "### First-order methods\n",
    "Values of f and $f^'$ are used(gradient methods).\n",
    "\n",
    "Cons: Necessity to know analytical expression of f,f'\n",
    "\n",
    "Pros: Relatively fast convergence\n",
    "\n",
    "### Second-order methods\n",
    "\n",
    "Values of f,f',f'' are used(Newtonian methods).\n",
    "\n",
    "Pros: fast convergence.\n",
    "\n",
    "Cons: Necessity to know analytical expression of f,f',f''\n"
   ]
  },
  {
   "cell_type": "markdown",
   "metadata": {},
   "source": [
    "## Exhaustive search(brute-force)\n",
    "Let f(x): [a,b] $\\rightarrow R$. Approx. solve the optimisation problem $f(x) \\rightarrow min_{x \\in [a,b]}$ by finding x* with error $\\varepsilon > 0$\n",
    "\n",
    "### Algorithm\n",
    "Consider following point in [a,b]:\n",
    "\n",
    "$x_k = a + k \\frac{b-a}{n}, k = 0,..,...,n$\n",
    "\n",
    "where n is chosen so that $\\frac{b-a}{n} \\leq \\varepsilon$\n",
    "\n",
    "Calculate $f(x_k)$ and find $x_m$, where $m \\in {1,...,n}$, such that \n",
    "\n",
    "$f(x_m) = \\min{k=0,..,n} f (x_k)$\n",
    "\n",
    "Then $|x_m - x| \\le \\varepsilon$\n"
   ]
  },
  {
   "cell_type": "code",
   "execution_count": null,
   "metadata": {},
   "outputs": [],
   "source": []
  }
 ],
 "metadata": {
  "kernelspec": {
   "display_name": "Python 3",
   "language": "python",
   "name": "python3"
  },
  "language_info": {
   "codemirror_mode": {
    "name": "ipython",
    "version": 3
   },
   "file_extension": ".py",
   "mimetype": "text/x-python",
   "name": "python",
   "nbconvert_exporter": "python",
   "pygments_lexer": "ipython3",
   "version": "3.8.3"
  }
 },
 "nbformat": 4,
 "nbformat_minor": 4
}
