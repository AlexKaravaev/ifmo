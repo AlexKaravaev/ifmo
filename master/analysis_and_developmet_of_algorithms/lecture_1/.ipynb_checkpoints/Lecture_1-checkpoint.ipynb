{
 "cells": [
  {
   "cell_type": "markdown",
   "metadata": {},
   "source": [
    "## Introduction to algorithms"
   ]
  },
  {
   "cell_type": "markdown",
   "metadata": {},
   "source": [
    "**Optimisation methods** are the methods for finding optimal(in some sense) solutions for mathematical models.\n",
    "\n",
    "----\n",
    "\n",
    "## Optimisation problem\n",
    "To solve the optimisation problem $f(x) \\rightarrow max_{x \\in Q}(min_{x \\in Q})$ means to find such $x^* \\in Q$, where Q is the region of acceptability, such that f reaches the (mininmal) value at $x^*$. Notation: $x^* = arg max_{x \\in Q}(min_{x \\in Q})f(x)$\n",
    "If $x^*$ is known, one can clearly find $f(x^*)$.\n",
    "\n",
    "----\n",
    "\n",
    "- **Local**(simpler) and **global**(more complex) optimisation\n",
    "- The max problem becomes the min problem if one considers -f \n",
    "\n",
    "Q, the region of acceptability may be\n",
    "- Not defined(**Unconstrained optimization**)\n",
    "- Defined via a system S of linear or non-linear equations(**Constrained optimization**)\n",
    " f or S (non-)linear $\\rightarrow$ (non-)linear programming or (non-)linear optimisation\n",
    " \n",
    " "
   ]
  },
  {
   "cell_type": "markdown",
   "metadata": {},
   "source": [
    "## Methods for minimisation\n",
    "Information about $f \\rightarrow $ **direct**, **first-order** or **second-order** methods \n",
    "\n",
    "### Direct methods or zero-order methods\n",
    "Only values of f(but no those of its derivatives) are used. \n",
    "\n",
    "Cons: Available for a wide class of functions; \n",
    "\n",
    "Pros:Slow convergence\n",
    "\n",
    "### First-order methods\n",
    "Values of f and $f^'$ are used(gradient methods).\n",
    "\n",
    "Cons: Necessity to know analytical expression of f,f'\n",
    "\n",
    "Pros: Relatively fast convergence\n",
    "\n",
    "### Second-order methods\n",
    "\n",
    "Values of f,f',f'' are used(Newtonian methods).\n",
    "\n",
    "Pros: fast convergence.\n",
    "\n",
    "Cons: Necessity to know analytical expression of f,f',f''\n"
   ]
  },
  {
   "cell_type": "code",
   "execution_count": null,
   "metadata": {},
   "outputs": [],
   "source": []
  },
  {
   "cell_type": "code",
   "execution_count": null,
   "metadata": {},
   "outputs": [],
   "source": []
  }
 ],
 "metadata": {
  "kernelspec": {
   "display_name": "Python 3",
   "language": "python",
   "name": "python3"
  },
  "language_info": {
   "codemirror_mode": {
    "name": "ipython",
    "version": 3
   },
   "file_extension": ".py",
   "mimetype": "text/x-python",
   "name": "python",
   "nbconvert_exporter": "python",
   "pygments_lexer": "ipython3",
   "version": "3.8.3"
  }
 },
 "nbformat": 4,
 "nbformat_minor": 4
}
